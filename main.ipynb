{
 "cells": [
  {
   "cell_type": "code",
   "execution_count": 222,
   "id": "4ee118d4",
   "metadata": {},
   "outputs": [],
   "source": [
    "#Importing libraries.\n",
    "\n",
    "import pandas as pd\n",
    "import requests\n",
    "from selenium import webdriver\n",
    "from selenium.webdriver.common.keys import Keys\n",
    "from bs4 import BeautifulSoup\n",
    "import time\n",
    "from selenium.webdriver.common.by import By\n",
    "from selenium.webdriver.support.ui import WebDriverWait\n",
    "from selenium.webdriver.support import expected_conditions as EC\n",
    "import pandas as pd\n",
    "import requests\n",
    "import time\n",
    "from selenium import webdriver\n",
    "from selenium.webdriver.common.keys import Keys\n",
    "from selenium.webdriver.common.by import By\n",
    "from selenium.webdriver.support.ui import WebDriverWait\n",
    "from selenium.webdriver.support import expected_conditions as EC\n",
    "from tqdm import tqdm\n",
    "from selenium.webdriver.chrome.options import Options\n",
    "import shutup\n",
    "import requests\n",
    "from bs4 import BeautifulSoup\n",
    "shutup.please()\n",
    "import lxml.html"
   ]
  },
  {
   "cell_type": "code",
   "execution_count": 252,
   "id": "c01bd3dd",
   "metadata": {},
   "outputs": [],
   "source": [
    "link = 'https://www.eltiempo.es/en-provincia-almeria/abejuela.html'\n",
    "driver = webdriver.Chrome()\n",
    "driver.get(link)"
   ]
  },
  {
   "cell_type": "code",
   "execution_count": 256,
   "id": "f70462d3",
   "metadata": {},
   "outputs": [
    {
     "data": {
      "text/plain": [
       "'22°'"
      ]
     },
     "execution_count": 256,
     "metadata": {},
     "output_type": "execute_result"
    }
   ],
   "source": [
    "driver.find_elements(By.XPATH, '//*[@id=\"headerCity\"]/div[2]/section/div[1]/section[1]/span')[0].text"
   ]
  },
  {
   "cell_type": "code",
   "execution_count": 57,
   "id": "3f32b937",
   "metadata": {},
   "outputs": [],
   "source": [
    "links_auto = []\n",
    "\n",
    "links = driver.find_elements(By.XPATH,  \"//a[contains(@href, 'provincia')]\")\n",
    "\n",
    "for i in links:\n",
    "    links_auto.append(i.get_attribute('href'))"
   ]
  },
  {
   "cell_type": "code",
   "execution_count": 58,
   "id": "9b8f1f1f",
   "metadata": {},
   "outputs": [],
   "source": [
    "links_manual = ['https://www.eltiempo.es/navarra',\n",
    "                'https://www.eltiempo.es/melilla',\n",
    "                'https://www.eltiempo.es/ceuta',\n",
    "                'https://www.eltiempo.es/alava',\n",
    "                'https://www.eltiempo.es/guipuzcoa',\n",
    "                'https://www.eltiempo.es/vizcaya',\n",
    "                'https://www.eltiempo.es/a-coruna',\n",
    "                'https://www.eltiempo.es/ourense',\n",
    "                'https://www.eltiempo.es/baleares',\n",
    "                'https://www.eltiempo.es/la-rioja',\n",
    "                'https://www.eltiempo.es/asturias',\n",
    "                'https://www.eltiempo.es/murcia']"
   ]
  },
  {
   "cell_type": "code",
   "execution_count": 59,
   "id": "9f3f8899",
   "metadata": {},
   "outputs": [],
   "source": [
    "provinces = links_auto + links_manual"
   ]
  },
  {
   "cell_type": "code",
   "execution_count": 60,
   "id": "294466f3",
   "metadata": {},
   "outputs": [
    {
     "data": {
      "text/plain": [
       "52"
      ]
     },
     "execution_count": 60,
     "metadata": {},
     "output_type": "execute_result"
    }
   ],
   "source": [
    "len(provinces)"
   ]
  },
  {
   "cell_type": "code",
   "execution_count": 141,
   "id": "dbc58907",
   "metadata": {},
   "outputs": [
    {
     "data": {
      "text/plain": [
       "'https://www.eltiempo.es/aballe.html'"
      ]
     },
     "execution_count": 141,
     "metadata": {},
     "output_type": "execute_result"
    }
   ],
   "source": [
    "driver.find_element(By.XPATH, '//*[@id=\"main\"]/div[4]/div/section[6]/article/div/div[1]/ul/li[1]/a').get_attribute('href')"
   ]
  },
  {
   "cell_type": "code",
   "execution_count": 162,
   "id": "2cc1de2e",
   "metadata": {},
   "outputs": [
    {
     "name": "stderr",
     "output_type": "stream",
     "text": [
      "100%|███████████████████████████████████████████████████████████████████████████████| 52/52 [4:45:32<00:00, 329.46s/it]\n"
     ]
    }
   ],
   "source": [
    "links = []\n",
    "\n",
    "for i in tqdm(provinces):\n",
    "    driver.get(i)\n",
    "    time.sleep(5)\n",
    "    \n",
    "    xpath_a = '//*[@id=\"main\"]/div[4]/div/section[6]/article/div/div['\n",
    "    xpath_b = ']/ul/li['\n",
    "    xpath_c = ']/a'\n",
    "    \n",
    "    for n in range(25):\n",
    "        xpath_base = xpath_a + str(n) + xpath_b\n",
    "        for p in range(1000):\n",
    "            try:\n",
    "                xpath_full = xpath_base + str(p) + xpath_c\n",
    "                town_link = driver.find_element(By.XPATH, xpath_full).get_attribute('href')\n",
    "                links.append(town_link)\n",
    "            except:\n",
    "                pass"
   ]
  },
  {
   "cell_type": "code",
   "execution_count": 243,
   "id": "983dc173",
   "metadata": {},
   "outputs": [],
   "source": [
    "# Dropping duplicates.\n",
    "\n",
    "links = list(set(links))"
   ]
  },
  {
   "cell_type": "code",
   "execution_count": 168,
   "id": "ac40497f",
   "metadata": {},
   "outputs": [],
   "source": [
    "# Accessing the first link for testing purposes.\n",
    "\n",
    "page = requests.get(links[0])"
   ]
  },
  {
   "cell_type": "markdown",
   "id": "a50e0a84",
   "metadata": {},
   "source": [
    "## Approach 1"
   ]
  },
  {
   "cell_type": "code",
   "execution_count": 169,
   "id": "af09cedf",
   "metadata": {},
   "outputs": [
    {
     "data": {
      "text/plain": [
       "'https://www.eltiempo.es/en-provincia-almeria/abejuela.html'"
      ]
     },
     "execution_count": 169,
     "metadata": {},
     "output_type": "execute_result"
    }
   ],
   "source": [
    "links[0]"
   ]
  },
  {
   "cell_type": "code",
   "execution_count": 207,
   "id": "f6fb3ce6",
   "metadata": {},
   "outputs": [],
   "source": [
    "soup = BeautifulSoup(page.content, 'lxml')"
   ]
  },
  {
   "cell_type": "code",
   "execution_count": 208,
   "id": "2639ae81",
   "metadata": {
    "scrolled": false
   },
   "outputs": [
    {
     "data": {
      "text/plain": [
       "True"
      ]
     },
     "execution_count": 208,
     "metadata": {},
     "output_type": "execute_result"
    }
   ],
   "source": [
    "# Using this string to verify that the link corresponds to an actual town.\n",
    "\n",
    "'El tiempo en' in soup.find_all('h1')[0].get_text()"
   ]
  },
  {
   "cell_type": "code",
   "execution_count": 264,
   "id": "613b9312",
   "metadata": {},
   "outputs": [
    {
     "data": {
      "text/plain": [
       "'                        Almería                             provincia'"
      ]
     },
     "execution_count": 264,
     "metadata": {},
     "output_type": "execute_result"
    }
   ],
   "source": [
    "# Extracting the province and cleaning the resulting string.\n",
    "\n",
    "province = soup.find_all(class_=\"province\")[0].get_text().split(\"\\n\")[2]\n",
    "province"
   ]
  },
  {
   "cell_type": "code",
   "execution_count": 267,
   "id": "2fb496c2",
   "metadata": {},
   "outputs": [
    {
     "data": {
      "text/plain": [
       "'                    Abejuela'"
      ]
     },
     "execution_count": 267,
     "metadata": {},
     "output_type": "execute_result"
    }
   ],
   "source": [
    "# Town name.\n",
    "\n",
    "soup.find_all('h1')[0].get_text().split(\"\\n\")[4]"
   ]
  },
  {
   "cell_type": "markdown",
   "id": "17e1c88f",
   "metadata": {},
   "source": [
    "##  Approach 2"
   ]
  },
  {
   "cell_type": "code",
   "execution_count": 302,
   "id": "880b6290",
   "metadata": {},
   "outputs": [
    {
     "data": {
      "text/plain": [
       "<script type=\"text/javascript\">\n",
       "        var current_location_info = {};\n",
       "                                            // prepare all the data for the PSS alert system\n",
       "        current_location_info['foreca_id'] = \"102522495\";\n",
       "        current_location_info['urlized'] = \"en-provincia-almeria/abejuela\";\n",
       "        current_location_info['pelmorex_id'] = \"ESXX16293\";\n",
       "        current_location_info['name'] = \"Abejuela\";\n",
       "        current_location_info['region_name'] = \"Almería\";\n",
       "        current_location_info['country_name'] = \"\";\n",
       "        current_location_info['pss'] = \"\";\n",
       "                    current_location_info['url'] = \"/en-provincia-almeria/abejuela.html\";\n",
       "                    current_location_info['weather'] = \"\";\n",
       "        current_location_info['timestamp'] = \"\";\n",
       "        current_location_info['city_page_pelmorex_id'] = \"ESXX16293\";\n",
       "        current_location_info['is_gps'] = false;\n",
       "                    </script>"
      ]
     },
     "execution_count": 302,
     "metadata": {},
     "output_type": "execute_result"
    }
   ],
   "source": [
    "script = soup.find_all('script', {'type': 'text/javascript'})[2]\n",
    "script"
   ]
  },
  {
   "cell_type": "code",
   "execution_count": null,
   "id": "71df2994",
   "metadata": {},
   "outputs": [],
   "source": []
  }
 ],
 "metadata": {
  "kernelspec": {
   "display_name": "Python 3 (ipykernel)",
   "language": "python",
   "name": "python3"
  },
  "language_info": {
   "codemirror_mode": {
    "name": "ipython",
    "version": 3
   },
   "file_extension": ".py",
   "mimetype": "text/x-python",
   "name": "python",
   "nbconvert_exporter": "python",
   "pygments_lexer": "ipython3",
   "version": "3.9.12"
  }
 },
 "nbformat": 4,
 "nbformat_minor": 5
}
