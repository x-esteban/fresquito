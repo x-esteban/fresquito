{
 "cells": [
  {
   "cell_type": "code",
   "execution_count": 1,
   "id": "4ee118d4",
   "metadata": {},
   "outputs": [],
   "source": [
    "#Importing libraries.\n",
    "\n",
    "import pandas as pd\n",
    "import requests\n",
    "from selenium import webdriver\n",
    "from selenium.webdriver.common.keys import Keys\n",
    "from bs4 import BeautifulSoup\n",
    "import time\n",
    "from selenium.webdriver.common.by import By\n",
    "from selenium.webdriver.support.ui import WebDriverWait\n",
    "from selenium.webdriver.support import expected_conditions as EC\n",
    "import pandas as pd\n",
    "import requests\n",
    "import time\n",
    "from selenium import webdriver\n",
    "from selenium.webdriver.common.keys import Keys\n",
    "from selenium.webdriver.common.by import By\n",
    "from selenium.webdriver.support.ui import WebDriverWait\n",
    "from selenium.webdriver.support import expected_conditions as EC\n",
    "from tqdm import tqdm\n",
    "from selenium.webdriver.chrome.options import Options\n",
    "import pyautogui\n",
    "import shutup\n",
    "import requests\n",
    "from bs4 import BeautifulSoup\n",
    "shutup.please()"
   ]
  },
  {
   "cell_type": "code",
   "execution_count": 8,
   "id": "194b13ff",
   "metadata": {},
   "outputs": [],
   "source": [
    "link = 'https://www.eltiempo.es/catalunya'\n",
    "\n",
    "r = requests.get(link)"
   ]
  },
  {
   "cell_type": "code",
   "execution_count": 9,
   "id": "c01bd3dd",
   "metadata": {},
   "outputs": [],
   "source": [
    "driver = webdriver.Chrome()\n",
    "driver.get(link)"
   ]
  },
  {
   "cell_type": "code",
   "execution_count": 38,
   "id": "624e63f8",
   "metadata": {},
   "outputs": [],
   "source": [
    "provinces = driver.find_elements(By.XPATH,  \"//a[contains(@href, 'en-provincia')]\")"
   ]
  },
  {
   "cell_type": "code",
   "execution_count": 39,
   "id": "a28ad6b5",
   "metadata": {},
   "outputs": [
    {
     "data": {
      "text/plain": [
       "'https://www.eltiempo.es/en-provincia-girona'"
      ]
     },
     "execution_count": 39,
     "metadata": {},
     "output_type": "execute_result"
    }
   ],
   "source": [
    "provinces[1].get_attribute('href')"
   ]
  },
  {
   "cell_type": "code",
   "execution_count": 40,
   "id": "ef27e760",
   "metadata": {},
   "outputs": [
    {
     "name": "stdout",
     "output_type": "stream",
     "text": [
      "https://www.eltiempo.es/en-provincia-barcelona\n",
      "https://www.eltiempo.es/en-provincia-girona\n",
      "https://www.eltiempo.es/en-provincia-lleida\n",
      "https://www.eltiempo.es/en-provincia-tarragona\n"
     ]
    }
   ],
   "source": [
    "for i in provinces:\n",
    "    print(i.get_attribute('href'))"
   ]
  },
  {
   "cell_type": "code",
   "execution_count": 26,
   "id": "3f32b937",
   "metadata": {},
   "outputs": [],
   "source": [
    "for i in provinces:\n",
    "    try:\n",
    "        print(i.get_attribute('href'))\n",
    "    except:\n",
    "        pass"
   ]
  },
  {
   "cell_type": "code",
   "execution_count": null,
   "id": "fdc2e8cb",
   "metadata": {},
   "outputs": [],
   "source": []
  }
 ],
 "metadata": {
  "kernelspec": {
   "display_name": "Python 3 (ipykernel)",
   "language": "python",
   "name": "python3"
  },
  "language_info": {
   "codemirror_mode": {
    "name": "ipython",
    "version": 3
   },
   "file_extension": ".py",
   "mimetype": "text/x-python",
   "name": "python",
   "nbconvert_exporter": "python",
   "pygments_lexer": "ipython3",
   "version": "3.9.7"
  }
 },
 "nbformat": 4,
 "nbformat_minor": 5
}
