{
 "cells": [
  {
   "cell_type": "code",
   "execution_count": 592,
   "id": "4ee118d4",
   "metadata": {},
   "outputs": [],
   "source": [
    "#Importing libraries.\n",
    "\n",
    "import pandas as pd\n",
    "import requests\n",
    "from selenium import webdriver\n",
    "from selenium.webdriver.common.keys import Keys\n",
    "from bs4 import BeautifulSoup\n",
    "import time\n",
    "from selenium.webdriver.common.by import By\n",
    "from selenium.webdriver.support.ui import WebDriverWait\n",
    "from selenium.webdriver.support import expected_conditions as EC\n",
    "import pandas as pd\n",
    "import requests\n",
    "import time\n",
    "from selenium import webdriver\n",
    "from selenium.webdriver.common.keys import Keys\n",
    "from selenium.webdriver.common.by import By\n",
    "from selenium.webdriver.support.ui import WebDriverWait\n",
    "from selenium.webdriver.support import expected_conditions as EC\n",
    "from tqdm import tqdm\n",
    "from selenium.webdriver.chrome.options import Options\n",
    "import shutup\n",
    "import requests\n",
    "from bs4 import BeautifulSoup\n",
    "shutup.please()\n",
    "import lxml.html\n",
    "import re\n",
    "import threading\n",
    "import datetime"
   ]
  },
  {
   "cell_type": "markdown",
   "id": "1618de22",
   "metadata": {},
   "source": [
    "## Locating every town link"
   ]
  },
  {
   "cell_type": "markdown",
   "id": "10c42626",
   "metadata": {},
   "source": [
    "Before we can start actually scraping any data we must locate every town link. It won't be easy, but it must be done."
   ]
  },
  {
   "cell_type": "code",
   "execution_count": 252,
   "id": "c01bd3dd",
   "metadata": {},
   "outputs": [],
   "source": [
    "# Initiating our chromedriver\n",
    "\n",
    "link = 'https://www.eltiempo.es/en-provincia-almeria/abejuela.html'\n",
    "driver = webdriver.Chrome()\n",
    "driver.get(link)"
   ]
  },
  {
   "cell_type": "code",
   "execution_count": 57,
   "id": "3f32b937",
   "metadata": {},
   "outputs": [],
   "source": [
    "# Since most province link (which holds town links)\n",
    "\n",
    "links_auto = []\n",
    "\n",
    "links = driver.find_elements(By.XPATH,  \"//a[contains(@href, 'provincia')]\") # Grabbing every link containing 'provincia'\n",
    "\n",
    "for i in links:\n",
    "    links_auto.append(i.get_attribute('href')) # Appending the link to our list"
   ]
  },
  {
   "cell_type": "code",
   "execution_count": 58,
   "id": "72f509de",
   "metadata": {},
   "outputs": [],
   "source": [
    "# Some provinces don't have 'provincia' in the link, so we'll have to add them manually. Luckily they aren't many\n",
    "\n",
    "links_manual = ['https://www.eltiempo.es/navarra',\n",
    "                'https://www.eltiempo.es/melilla',\n",
    "                'https://www.eltiempo.es/ceuta',\n",
    "                'https://www.eltiempo.es/alava',\n",
    "                'https://www.eltiempo.es/guipuzcoa',\n",
    "                'https://www.eltiempo.es/vizcaya',\n",
    "                'https://www.eltiempo.es/a-coruna',\n",
    "                'https://www.eltiempo.es/ourense',\n",
    "                'https://www.eltiempo.es/baleares',\n",
    "                'https://www.eltiempo.es/la-rioja',\n",
    "                'https://www.eltiempo.es/asturias',\n",
    "                'https://www.eltiempo.es/murcia']"
   ]
  },
  {
   "cell_type": "code",
   "execution_count": 59,
   "id": "2b94b3bb",
   "metadata": {},
   "outputs": [],
   "source": [
    "# Let's join all the links\n",
    "\n",
    "provinces = links_auto + links_manual"
   ]
  },
  {
   "cell_type": "code",
   "execution_count": 60,
   "id": "2bc95d00",
   "metadata": {},
   "outputs": [
    {
     "data": {
      "text/plain": [
       "52"
      ]
     },
     "execution_count": 60,
     "metadata": {},
     "output_type": "execute_result"
    }
   ],
   "source": [
    "# 52 provinces, as expected\n",
    "\n",
    "len(provinces)"
   ]
  },
  {
   "cell_type": "markdown",
   "id": "9c976b2d",
   "metadata": {},
   "source": [
    "Now that we have all the province links it's time to access them and grab every town link."
   ]
  },
  {
   "cell_type": "code",
   "execution_count": 162,
   "id": "0ba6a848",
   "metadata": {},
   "outputs": [
    {
     "name": "stderr",
     "output_type": "stream",
     "text": [
      "100%|███████████████████████████████████████████████████████████████████████████████| 52/52 [4:45:32<00:00, 329.46s/it]\n"
     ]
    }
   ],
   "source": [
    "links = []\n",
    "\n",
    "for i in tqdm(provinces):\n",
    "    driver.get(i)\n",
    "    time.sleep(5)\n",
    "    \n",
    "    xpath_a = '//*[@id=\"main\"]/div[4]/div/section[6]/article/div/div['\n",
    "    xpath_b = ']/ul/li['\n",
    "    xpath_c = ']/a' \n",
    "    \n",
    "    for n in range(25):\n",
    "        xpath_base = xpath_a + str(n) + xpath_b\n",
    "        for p in range(1000):\n",
    "            try:\n",
    "                xpath_full = xpath_base + str(p) + xpath_c\n",
    "                town_link = driver.find_element(By.XPATH, xpath_full).get_attribute('href')\n",
    "                links.append(town_link)\n",
    "            except:\n",
    "                pass"
   ]
  },
  {
   "cell_type": "code",
   "execution_count": 243,
   "id": "a5b17a2b",
   "metadata": {},
   "outputs": [],
   "source": [
    "# Dropping duplicates.\n",
    "\n",
    "links = list(set(links))"
   ]
  },
  {
   "cell_type": "markdown",
   "id": "cec2ff64",
   "metadata": {},
   "source": [
    "##  Creating dictionaries with town data"
   ]
  },
  {
   "cell_type": "markdown",
   "id": "3b01f72a",
   "metadata": {},
   "source": [
    "Using one of the site's network calls we can obtain a dictionary with all meteo data in real time, but first we'll have to find the **pelmorex_id** of every town so that we can perform the call. Let's use regex to create a dictionary containing **town url**, **name** and **pelmorex_id**."
   ]
  },
  {
   "cell_type": "code",
   "execution_count": 305,
   "id": "a9f349fe",
   "metadata": {},
   "outputs": [
    {
     "data": {
      "text/plain": [
       "'\\n        var current_location_info = {};\\n                                            // prepare all the data for the PSS alert system\\n        current_location_info[\\'foreca_id\\'] = \"102522495\";\\n        current_location_info[\\'urlized\\'] = \"en-provincia-almeria/abejuela\";\\n        current_location_info[\\'pelmorex_id\\'] = \"ESXX16293\";\\n        current_location_info[\\'name\\'] = \"Abejuela\";\\n        current_location_info[\\'region_name\\'] = \"Almería\";\\n        current_location_info[\\'country_name\\'] = \"\";\\n        current_location_info[\\'pss\\'] = \"\";\\n                    current_location_info[\\'url\\'] = \"/en-provincia-almeria/abejuela.html\";\\n                    current_location_info[\\'weather\\'] = \"\";\\n        current_location_info[\\'timestamp\\'] = \"\";\\n        current_location_info[\\'city_page_pelmorex_id\\'] = \"ESXX16293\";\\n        current_location_info[\\'is_gps\\'] = false;\\n                    '"
      ]
     },
     "execution_count": 305,
     "metadata": {},
     "output_type": "execute_result"
    }
   ],
   "source": [
    "# Grabbing the javascript text containing the town name and pelmorex_id.\n",
    "\n",
    "script = soup.find_all('script', {'type': 'text/javascript'})[2].text\n",
    "script"
   ]
  },
  {
   "cell_type": "code",
   "execution_count": 312,
   "id": "ca3fcef0",
   "metadata": {},
   "outputs": [
    {
     "data": {
      "text/plain": [
       "'ESXX16293'"
      ]
     },
     "execution_count": 312,
     "metadata": {},
     "output_type": "execute_result"
    }
   ],
   "source": [
    "# Isolating the palmorex_id.\n",
    "\n",
    "result = re.search(\"\"\"pelmorex_id\\'] = \"(.*)\";\\n        current_location\"\"\", script)\n",
    "pelmorex_id = result.group(1)\n",
    "pelmorex_id"
   ]
  },
  {
   "cell_type": "code",
   "execution_count": 318,
   "id": "b8bbb418",
   "metadata": {},
   "outputs": [
    {
     "data": {
      "text/plain": [
       "'Abejuela'"
      ]
     },
     "execution_count": 318,
     "metadata": {},
     "output_type": "execute_result"
    }
   ],
   "source": [
    "# Performing the same operation to extract the town name.\n",
    "\n",
    "result = re.search(\"\"\"name\\'] = \"(.*)\";\\n        current_location\"\"\", script)\n",
    "town_name = result.group(1)\n",
    "town_name"
   ]
  },
  {
   "cell_type": "code",
   "execution_count": 321,
   "id": "699b65f6",
   "metadata": {},
   "outputs": [
    {
     "data": {
      "text/plain": [
       "'Almería'"
      ]
     },
     "execution_count": 321,
     "metadata": {},
     "output_type": "execute_result"
    }
   ],
   "source": [
    "# And finally, province.\n",
    "\n",
    "result = re.search(\"\"\"region_name\\'] = \"(.*)\";\\n        current_location\"\"\", script)\n",
    "province = result.group(1)\n",
    "province"
   ]
  },
  {
   "cell_type": "markdown",
   "id": "9a643342",
   "metadata": {},
   "source": [
    "It seems like this approach *might* be viable. \n",
    "\n",
    "Now we need to visit every link from our list and, if it's a town, perform the following operations:\n",
    "\n",
    "    - Parse page, grab town name\n",
    "    - Grab town pelmorex_id\n",
    "    - Grab town province\n",
    "    - Create a dictionary with url + previous data\n",
    "    - Store dictionary in a list"
   ]
  },
  {
   "cell_type": "code",
   "execution_count": 331,
   "id": "0ec9bee5",
   "metadata": {
    "scrolled": true
   },
   "outputs": [
    {
     "name": "stderr",
     "output_type": "stream",
     "text": [
      " 97%|███████████████████████████████████████████████████████████████████████▍  | 23996/24859 [4:12:30<07:46,  1.85it/s]"
     ]
    },
    {
     "name": "stdout",
     "output_type": "stream",
     "text": [
      "https://www.eltiempo.es/martes.html\n"
     ]
    },
    {
     "name": "stderr",
     "output_type": "stream",
     "text": [
      "100%|██████████████████████████████████████████████████████████████████████████| 24859/24859 [4:21:33<00:00,  1.58it/s]\n"
     ]
    }
   ],
   "source": [
    "# Creating our loop.\n",
    "\n",
    "town_dicts = [] # Holding the dictionaries containing all scraped data\n",
    "fail = [] # Storing failed links\n",
    "id_counter = [] # Storing IDs as to eliminate duplicate values.\n",
    "\n",
    "for i in tqdm(links):\n",
    "    page = requests.get(i) # Accessing the link.\n",
    "    soup = BeautifulSoup(page.content, 'lxml') # Parsing it as usual\n",
    "    # If the link points to a town we'll create and store the dictionary as follows\n",
    "    try:\n",
    "        if 'El tiempo en' in soup.find_all('h1')[0].get_text(): # Using the previous condition to filter the links\n",
    "            try:\n",
    "                script = soup.find_all('script', {'type': 'text/javascript'})[2].text # Locating the javascript text\n",
    "                result = re.search(\"\"\"pelmorex_id\\'] = \"(.*)\";\\n        current_location\"\"\", script)\n",
    "                pelmorex_id = result.group(1) # Saving pelmorex_id\n",
    "                result = re.search(\"\"\"name\\'] = \"(.*)\";\\n        current_location\"\"\", script)\n",
    "                town_name = result.group(1) # Town name\n",
    "                result = re.search(\"\"\"region_name\\'] = \"(.*)\";\\n        current_location\"\"\", script)\n",
    "                province = result.group(1) # Province\n",
    "                \n",
    "                if pelmorex_id not in id_counter: # Checking if it's a duplicate.\n",
    "                    # Now we can create and save the dictionary\n",
    "                    town = {'url': i, 'pelmorex_id': pelmorex_id, 'name': town_name, 'province': province}\n",
    "                    town_dicts.append(town) # Appending it to the list\n",
    "                    id_counter.append(pelmorex_id)\n",
    "                else:\n",
    "                    pass\n",
    "            except:\n",
    "                fail.append(i) # If the loop fails we'll see at which url it crashed \n",
    "\n",
    "        else:\n",
    "            pass\n",
    "    except:\n",
    "        print(i)\n",
    "        pass"
   ]
  },
  {
   "cell_type": "code",
   "execution_count": 332,
   "id": "95a3d0e9",
   "metadata": {},
   "outputs": [
    {
     "data": {
      "text/plain": [
       "24858"
      ]
     },
     "execution_count": 332,
     "metadata": {},
     "output_type": "execute_result"
    }
   ],
   "source": [
    "# Checking how many entries we have.\n",
    "\n",
    "len(town_dicts)"
   ]
  },
  {
   "cell_type": "code",
   "execution_count": 333,
   "id": "c0d75d24",
   "metadata": {},
   "outputs": [
    {
     "data": {
      "text/plain": [
       "[]"
      ]
     },
     "execution_count": 333,
     "metadata": {},
     "output_type": "execute_result"
    }
   ],
   "source": [
    "# Luckily it managed to scrape all links.\n",
    "\n",
    "fail"
   ]
  },
  {
   "cell_type": "code",
   "execution_count": 652,
   "id": "54ef6ea6",
   "metadata": {
    "scrolled": true
   },
   "outputs": [
    {
     "data": {
      "text/plain": [
       "{'url': 'https://www.eltiempo.es/mallecina.html',\n",
       " 'pelmorex_id': 'ESO1194',\n",
       " 'name': 'Mallecina',\n",
       " 'province': 'Asturias'}"
      ]
     },
     "execution_count": 652,
     "metadata": {},
     "output_type": "execute_result"
    }
   ],
   "source": [
    "# An example of a dictionary.\n",
    "\n",
    "town_dicts[0]"
   ]
  },
  {
   "cell_type": "code",
   "execution_count": 338,
   "id": "ec3b501a",
   "metadata": {},
   "outputs": [],
   "source": [
    "# Let's save this list of dictionaries as a Pandas dataframe since we'll need it later.\n",
    "\n",
    "town_index = pd.DataFrame(town_dicts)\n",
    "town_index.to_csv('town_index.csv', index=False)"
   ]
  },
  {
   "cell_type": "markdown",
   "id": "47571a6d",
   "metadata": {},
   "source": [
    "## Scraping all links using BS4"
   ]
  },
  {
   "cell_type": "markdown",
   "id": "f0ba8690",
   "metadata": {},
   "source": [
    "Now that we have all (24K+) individual links we can get to the best part: scraping them.\n",
    "\n",
    "My first approach was to use a simple loop, but it was very inefficient and time-consuming."
   ]
  },
  {
   "cell_type": "code",
   "execution_count": 430,
   "id": "f8e6fa04",
   "metadata": {
    "scrolled": true
   },
   "outputs": [
    {
     "data": {
      "text/plain": [
       "'{\"type\":\"observatory\",\"timestamp\":{\"local\":\"2022-06-26 10:25\",\"local_ts\":1656239100,\"local_date\":\"2022-06-26\",\"local_year\":\"2022\",\"local_month\":\"06\",\"local_month_name\":\"june\",\"local_day\":\"26\",\"local_time\":\"10:25\",\"local_weekday\":\"0\",\"local_weekday_name\":\"sunday\",\"utc\":\"2022-06-26 08:25\",\"utc_ts\":1656231900},\"icon\":{\"standard\":\"d200\",\"extended\":\"d200\"},\"temperature\":{\"c\":11,\"f\":52},\"feels_like\":{\"c\":11,\"f\":52},\"wind\":{\"direction\":\"SW\",\"speed\":{\"kmh\":4,\"mph\":2,\"ms\":1,\"kt\":2,\"bft\":1},\"gust\":{\"kmh\":6,\"mph\":4,\"ms\":2,\"kt\":3,\"bft\":1}},\"humidity\":{\"percent\":80},\"pressure\":{\"hPa\":1016,\"trend\":2},\"dew_point\":{\"c\":8,\"f\":46},\"visibility\":{\"km\":23},\"ceiling\":{\"feet\":5451,\"meters\":1662},\"cloudiness\":null,\"pop\":{\"percent\":30},\"pot\":{\"percent\":0},\"rain\":{\"mm\":0},\"snow\":{\"cm\":0},\"temp_reliability\":null,\"wind_reliability\":null,\"sun\":null,\"location\":{\"province_name\":\"Asturias\",\"province_urlized\":\"asturias\",\"site\":\"Eltiempo.es\",\"locale\":\"es\"}}'"
      ]
     },
     "execution_count": 430,
     "metadata": {},
     "output_type": "execute_result"
    }
   ],
   "source": [
    "# Please notice how the API url uses the pelmorex_id that we extracted earlier, instead of town name.\n",
    "\n",
    "page = requests.get('https://www.eltiempo.es/api/v1/get_current_conditions_by_pelmorex_id/ESO1194')\n",
    "soup = BeautifulSoup(page.content, 'lxml') # Parsing the content.\n",
    "soup.text"
   ]
  },
  {
   "cell_type": "markdown",
   "id": "89231104",
   "metadata": {},
   "source": [
    "As we can see, the output contains all the relevant weather data that we could need. Let's test a loop."
   ]
  },
  {
   "cell_type": "code",
   "execution_count": 653,
   "id": "1b444534",
   "metadata": {},
   "outputs": [
    {
     "name": "stderr",
     "output_type": "stream",
     "text": [
      "100%|██████████████████████████████████████████████████████████████████████████████| 1000/1000 [06:10<00:00,  2.70it/s]"
     ]
    },
    {
     "name": "stdout",
     "output_type": "stream",
     "text": [
      "Time elapsed: 370.86693263053894\n"
     ]
    },
    {
     "name": "stderr",
     "output_type": "stream",
     "text": [
      "\n"
     ]
    }
   ],
   "source": [
    "# This loop scrapes every link and stores the needed data as a dictionary. Let's benchmark it with 1000 links.\n",
    "\n",
    "start = time.time() # Starting our timer\n",
    "\n",
    "meteo = []\n",
    "\n",
    "for i in tqdm(town_dicts[:1000]): # Using tqdm to create a progress bar\n",
    "    id = i['pelmorex_id']\n",
    "    page = requests.get('https://www.eltiempo.es/api/v1/get_current_conditions_by_pelmorex_id/' + str(id))\n",
    "    soup = eval(BeautifulSoup(page.content, 'lxml').text.replace('null', \"\"\"'null'\"\"\")) # Replacing null\n",
    "    temp_dict = {'pelmorex_id': id, 'temp': soup['temperature']['c'], 'timestamp': soup['timestamp']['local']} # Creating dict\n",
    "    meteo.append(temp_dict) # Appending the dictionary\n",
    "    \n",
    "end = time.time()\n",
    "print (\"Time elapsed:\", end - start) # Printing the elapsed time"
   ]
  },
  {
   "cell_type": "code",
   "execution_count": 654,
   "id": "007cf409",
   "metadata": {},
   "outputs": [
    {
     "data": {
      "text/plain": [
       "[{'pelmorex_id': 'ESO1194', 'temp': 15, 'timestamp': '2022-06-26 18:55'},\n",
       " {'pelmorex_id': 'ESXX9534', 'temp': 16, 'timestamp': '2022-06-26 19:05'},\n",
       " {'pelmorex_id': 'ESXX16949', 'temp': 30, 'timestamp': '2022-06-26 19:05'},\n",
       " {'pelmorex_id': 'ESXX11553', 'temp': 14, 'timestamp': '2022-06-26 19:05'},\n",
       " {'pelmorex_id': 'ESXX12715', 'temp': 19, 'timestamp': '2022-06-26 18:05'},\n",
       " {'pelmorex_id': 'ESXX10487', 'temp': 14, 'timestamp': '2022-06-26 19:05'},\n",
       " {'pelmorex_id': 'ESXX1741', 'temp': 21, 'timestamp': '2022-06-26 19:05'},\n",
       " {'pelmorex_id': 'ESXX0302', 'temp': 26, 'timestamp': '2022-06-26 18:55'},\n",
       " {'pelmorex_id': 'ESXX4751', 'temp': 29, 'timestamp': '2022-06-26 18:55'},\n",
       " {'pelmorex_id': 'ESXX11540', 'temp': 17, 'timestamp': '2022-06-26 19:05'}]"
      ]
     },
     "execution_count": 654,
     "metadata": {},
     "output_type": "execute_result"
    }
   ],
   "source": [
    "meteo[:10]"
   ]
  },
  {
   "cell_type": "markdown",
   "id": "ca85fdac",
   "metadata": {},
   "source": [
    "As we can see, it would take more than two hours to scrape every link. Absolutely unacceptable."
   ]
  },
  {
   "cell_type": "markdown",
   "id": "37ff9bd2",
   "metadata": {},
   "source": [
    "### Using multithreading to speed up the scraping"
   ]
  },
  {
   "cell_type": "markdown",
   "id": "96c3bd45",
   "metadata": {},
   "source": [
    "Since web scraping isn't very CPU intensive but requires some waiting until the page throws a response, multithreading holds great promise.\n",
    "\n",
    "In this section we'll use the previously developed procedures and incorporate multithreading into the process."
   ]
  },
  {
   "cell_type": "code",
   "execution_count": 655,
   "id": "4148d30d",
   "metadata": {},
   "outputs": [
    {
     "name": "stdout",
     "output_type": "stream",
     "text": [
      "Time elapsed: 5.476943731307983\n"
     ]
    }
   ],
   "source": [
    "start = time.time()\n",
    "\n",
    "meteo = []    \n",
    "\n",
    "\n",
    "id = i['pelmorex_id']\n",
    "page = requests.get('https://www.eltiempo.es/api/v1/get_current_conditions_by_pelmorex_id/' + str(id))\n",
    "soup = eval(BeautifulSoup(page.content, 'lxml').text.replace('null', \"\"\"'null'\"\"\"))\n",
    "temp_dict = {'pelmorex_id': id, 'temp': soup['temperature']['c'], 'timestamp': soup['timestamp']['local']}\n",
    "meteo.append(temp_dict)\n",
    "\n",
    "threads = [threading.Thread(target=fetch_links, args=(i,))\n",
    "           for i in town_dicts[:1000]] # Using multithreading to access all links\n",
    "\n",
    "for t in threads:\n",
    "    t.start() # Starting the action\n",
    "\n",
    "time.sleep(2)\n",
    "\n",
    "end = time.time()\n",
    "print (\"Time elapsed:\", end - start)"
   ]
  },
  {
   "cell_type": "markdown",
   "id": "1c40be86",
   "metadata": {},
   "source": [
    "As we can see, we got an enormous improvement by using multithreading. Let's now test it with the whole list of links."
   ]
  },
  {
   "cell_type": "code",
   "execution_count": 656,
   "id": "6fe54830",
   "metadata": {},
   "outputs": [
    {
     "name": "stdout",
     "output_type": "stream",
     "text": [
      "Time elapsed: 137.5862033367157\n"
     ]
    }
   ],
   "source": [
    "# Since we can't access all links at once since we did before or we'll run into timeout issues, we'll have to \n",
    "# splice the work into 1000 link segments. We can accomplish this using two simple counters that are updated at every run\n",
    "# and stop once all links have been accessed.\n",
    "\n",
    "start = time.time()\n",
    "\n",
    "meteo = []  \n",
    "a = 0 # First counter\n",
    "b = 1000 # Second counter\n",
    "\n",
    "while b < 27000: # Once b passes this threshold, the sraping will stop\n",
    "    id = i['pelmorex_id']\n",
    "    page = requests.get('https://www.eltiempo.es/api/v1/get_current_conditions_by_pelmorex_id/' + str(id))\n",
    "    soup = eval(BeautifulSoup(page.content, 'lxml').text.replace('null', \"\"\"'null'\"\"\"))\n",
    "    temp_dict = {'pelmorex_id': id, 'temp': soup['temperature']['c'], 'timestamp': soup['timestamp']['local']}\n",
    "    meteo.append(temp_dict)\n",
    "\n",
    "    threads = [threading.Thread(target=fetch_links, args=(i,))\n",
    "               for i in town_dicts[a:b]] # Accessing links indexed from a to b (0 to 1000)\n",
    "\n",
    "    for t in threads:\n",
    "        t.start()\n",
    "    a += 1000 # Next run we'll scrape links from 1000 to 2000\n",
    "    b += 1000\n",
    "    time.sleep(2) # Sleeping for 2s so that all requests can be fulfilled on time\n",
    "    \n",
    "time.sleep(2)\n",
    "\n",
    "end = time.time()\n",
    "print (\"Time elapsed:\", end - start)"
   ]
  },
  {
   "cell_type": "code",
   "execution_count": null,
   "id": "997cc0e1",
   "metadata": {},
   "outputs": [],
   "source": [
    "# Finally, saving the result as a dataframe\n",
    "\n",
    "meteo_df = pd.DataFrame(meteo)"
   ]
  },
  {
   "cell_type": "markdown",
   "id": "8b8defe3",
   "metadata": {},
   "source": [
    "Now we can scrape every link in a mere *2 minutes*. **Success!!**"
   ]
  },
  {
   "cell_type": "markdown",
   "id": "a9fcf10d",
   "metadata": {},
   "source": [
    "### Locating the coldest (and hottest) towns"
   ]
  },
  {
   "cell_type": "markdown",
   "id": "d9ccfca6",
   "metadata": {},
   "source": [
    "Now that we have a dataframe containing town data (name, url, province, pelmorex_id) and another one that contains the latest temperature it's simply a matter of joining them together using *merge*."
   ]
  },
  {
   "cell_type": "code",
   "execution_count": 658,
   "id": "9eb1888c",
   "metadata": {},
   "outputs": [
    {
     "data": {
      "text/html": [
       "<div>\n",
       "<style scoped>\n",
       "    .dataframe tbody tr th:only-of-type {\n",
       "        vertical-align: middle;\n",
       "    }\n",
       "\n",
       "    .dataframe tbody tr th {\n",
       "        vertical-align: top;\n",
       "    }\n",
       "\n",
       "    .dataframe thead th {\n",
       "        text-align: right;\n",
       "    }\n",
       "</style>\n",
       "<table border=\"1\" class=\"dataframe\">\n",
       "  <thead>\n",
       "    <tr style=\"text-align: right;\">\n",
       "      <th></th>\n",
       "      <th>url</th>\n",
       "      <th>pelmorex_id</th>\n",
       "      <th>name</th>\n",
       "      <th>province</th>\n",
       "    </tr>\n",
       "  </thead>\n",
       "  <tbody>\n",
       "    <tr>\n",
       "      <th>0</th>\n",
       "      <td>https://www.eltiempo.es/mallecina.html</td>\n",
       "      <td>ESO1194</td>\n",
       "      <td>Mallecina</td>\n",
       "      <td>Asturias</td>\n",
       "    </tr>\n",
       "  </tbody>\n",
       "</table>\n",
       "</div>"
      ],
      "text/plain": [
       "                                      url pelmorex_id       name  province\n",
       "0  https://www.eltiempo.es/mallecina.html     ESO1194  Mallecina  Asturias"
      ]
     },
     "execution_count": 658,
     "metadata": {},
     "output_type": "execute_result"
    }
   ],
   "source": [
    "town_index.head(1)"
   ]
  },
  {
   "cell_type": "code",
   "execution_count": 659,
   "id": "763c1b48",
   "metadata": {},
   "outputs": [
    {
     "data": {
      "text/html": [
       "<div>\n",
       "<style scoped>\n",
       "    .dataframe tbody tr th:only-of-type {\n",
       "        vertical-align: middle;\n",
       "    }\n",
       "\n",
       "    .dataframe tbody tr th {\n",
       "        vertical-align: top;\n",
       "    }\n",
       "\n",
       "    .dataframe thead th {\n",
       "        text-align: right;\n",
       "    }\n",
       "</style>\n",
       "<table border=\"1\" class=\"dataframe\">\n",
       "  <thead>\n",
       "    <tr style=\"text-align: right;\">\n",
       "      <th></th>\n",
       "      <th>pelmorex_id</th>\n",
       "      <th>temp</th>\n",
       "      <th>timestamp</th>\n",
       "    </tr>\n",
       "  </thead>\n",
       "  <tbody>\n",
       "    <tr>\n",
       "      <th>0</th>\n",
       "      <td>ESXX12097</td>\n",
       "      <td>12</td>\n",
       "      <td>2022-06-26 18:35</td>\n",
       "    </tr>\n",
       "  </tbody>\n",
       "</table>\n",
       "</div>"
      ],
      "text/plain": [
       "  pelmorex_id  temp         timestamp\n",
       "0   ESXX12097    12  2022-06-26 18:35"
      ]
     },
     "execution_count": 659,
     "metadata": {},
     "output_type": "execute_result"
    }
   ],
   "source": [
    "meteo_df.head(1)"
   ]
  },
  {
   "cell_type": "markdown",
   "id": "8be667f6",
   "metadata": {},
   "source": [
    "As we can see, both dataframes share the **pelmorex_id** column. Let's join them."
   ]
  },
  {
   "cell_type": "code",
   "execution_count": 660,
   "id": "7c5ec5ec",
   "metadata": {},
   "outputs": [
    {
     "data": {
      "text/html": [
       "<div>\n",
       "<style scoped>\n",
       "    .dataframe tbody tr th:only-of-type {\n",
       "        vertical-align: middle;\n",
       "    }\n",
       "\n",
       "    .dataframe tbody tr th {\n",
       "        vertical-align: top;\n",
       "    }\n",
       "\n",
       "    .dataframe thead th {\n",
       "        text-align: right;\n",
       "    }\n",
       "</style>\n",
       "<table border=\"1\" class=\"dataframe\">\n",
       "  <thead>\n",
       "    <tr style=\"text-align: right;\">\n",
       "      <th></th>\n",
       "      <th>url</th>\n",
       "      <th>pelmorex_id</th>\n",
       "      <th>name</th>\n",
       "      <th>province</th>\n",
       "      <th>temp</th>\n",
       "      <th>timestamp</th>\n",
       "    </tr>\n",
       "  </thead>\n",
       "  <tbody>\n",
       "    <tr>\n",
       "      <th>0</th>\n",
       "      <td>https://www.eltiempo.es/mallecina.html</td>\n",
       "      <td>ESO1194</td>\n",
       "      <td>Mallecina</td>\n",
       "      <td>Asturias</td>\n",
       "      <td>15</td>\n",
       "      <td>2022-06-26 18:35</td>\n",
       "    </tr>\n",
       "    <tr>\n",
       "      <th>1</th>\n",
       "      <td>https://www.eltiempo.es/arcocha.html</td>\n",
       "      <td>ESXX9534</td>\n",
       "      <td>Arcocha</td>\n",
       "      <td>Vizcaya</td>\n",
       "      <td>15</td>\n",
       "      <td>2022-06-26 18:35</td>\n",
       "    </tr>\n",
       "    <tr>\n",
       "      <th>2</th>\n",
       "      <td>https://www.eltiempo.es/torrejon.html</td>\n",
       "      <td>ESXX16949</td>\n",
       "      <td>Torrejón</td>\n",
       "      <td>Teruel</td>\n",
       "      <td>30</td>\n",
       "      <td>2022-06-26 18:35</td>\n",
       "    </tr>\n",
       "    <tr>\n",
       "      <th>3</th>\n",
       "      <td>https://www.eltiempo.es/pousacarro.html</td>\n",
       "      <td>ESXX11553</td>\n",
       "      <td>Pousacarro</td>\n",
       "      <td>A Coruña</td>\n",
       "      <td>14</td>\n",
       "      <td>2022-06-26 18:35</td>\n",
       "    </tr>\n",
       "    <tr>\n",
       "      <th>4</th>\n",
       "      <td>https://www.eltiempo.es/lomo-pelado.html</td>\n",
       "      <td>ESXX12715</td>\n",
       "      <td>Lomo Pelado</td>\n",
       "      <td>Tenerife</td>\n",
       "      <td>18</td>\n",
       "      <td>2022-06-26 17:35</td>\n",
       "    </tr>\n",
       "  </tbody>\n",
       "</table>\n",
       "</div>"
      ],
      "text/plain": [
       "                                        url pelmorex_id         name  \\\n",
       "0    https://www.eltiempo.es/mallecina.html     ESO1194    Mallecina   \n",
       "1      https://www.eltiempo.es/arcocha.html    ESXX9534      Arcocha   \n",
       "2     https://www.eltiempo.es/torrejon.html   ESXX16949     Torrejón   \n",
       "3   https://www.eltiempo.es/pousacarro.html   ESXX11553   Pousacarro   \n",
       "4  https://www.eltiempo.es/lomo-pelado.html   ESXX12715  Lomo Pelado   \n",
       "\n",
       "   province  temp         timestamp  \n",
       "0  Asturias    15  2022-06-26 18:35  \n",
       "1   Vizcaya    15  2022-06-26 18:35  \n",
       "2    Teruel    30  2022-06-26 18:35  \n",
       "3  A Coruña    14  2022-06-26 18:35  \n",
       "4  Tenerife    18  2022-06-26 17:35  "
      ]
     },
     "execution_count": 660,
     "metadata": {},
     "output_type": "execute_result"
    }
   ],
   "source": [
    "output = pd.merge(town_index, meteo_df, left_on='pelmorex_id', right_on='pelmorex_id', how='left')\n",
    "output.head()"
   ]
  },
  {
   "cell_type": "code",
   "execution_count": null,
   "id": "3709ca22",
   "metadata": {},
   "outputs": [],
   "source": [
    "# Saving the dataframe\n",
    "\n",
    "output.to_csv('output.csv', index=False)"
   ]
  },
  {
   "cell_type": "code",
   "execution_count": 665,
   "id": "ca92bd5b",
   "metadata": {},
   "outputs": [
    {
     "data": {
      "text/plain": [
       "5"
      ]
     },
     "execution_count": 665,
     "metadata": {},
     "output_type": "execute_result"
    }
   ],
   "source": [
    "# Finally, let's find the coldest temperature in the country\n",
    "\n",
    "output['temp'].min() # Obtaining coldest temperature"
   ]
  },
  {
   "cell_type": "code",
   "execution_count": 666,
   "id": "36129812",
   "metadata": {},
   "outputs": [
    {
     "data": {
      "text/html": [
       "<div>\n",
       "<style scoped>\n",
       "    .dataframe tbody tr th:only-of-type {\n",
       "        vertical-align: middle;\n",
       "    }\n",
       "\n",
       "    .dataframe tbody tr th {\n",
       "        vertical-align: top;\n",
       "    }\n",
       "\n",
       "    .dataframe thead th {\n",
       "        text-align: right;\n",
       "    }\n",
       "</style>\n",
       "<table border=\"1\" class=\"dataframe\">\n",
       "  <thead>\n",
       "    <tr style=\"text-align: right;\">\n",
       "      <th></th>\n",
       "      <th>url</th>\n",
       "      <th>pelmorex_id</th>\n",
       "      <th>name</th>\n",
       "      <th>province</th>\n",
       "      <th>temp</th>\n",
       "      <th>timestamp</th>\n",
       "    </tr>\n",
       "  </thead>\n",
       "  <tbody>\n",
       "    <tr>\n",
       "      <th>573</th>\n",
       "      <td>https://www.eltiempo.es/oblanca.html</td>\n",
       "      <td>ESXX18135</td>\n",
       "      <td>Oblanca</td>\n",
       "      <td>León</td>\n",
       "      <td>5</td>\n",
       "      <td>2022-06-26 18:35</td>\n",
       "    </tr>\n",
       "    <tr>\n",
       "      <th>951</th>\n",
       "      <td>https://www.eltiempo.es/saguera-de-luna.html</td>\n",
       "      <td>ESXX17503</td>\n",
       "      <td>Sagüera de Luna</td>\n",
       "      <td>León</td>\n",
       "      <td>5</td>\n",
       "      <td>2022-06-26 18:35</td>\n",
       "    </tr>\n",
       "    <tr>\n",
       "      <th>1909</th>\n",
       "      <td>https://www.eltiempo.es/folledo.html</td>\n",
       "      <td>ESXX19146</td>\n",
       "      <td>Folledo</td>\n",
       "      <td>León</td>\n",
       "      <td>5</td>\n",
       "      <td>2022-06-26 18:35</td>\n",
       "    </tr>\n",
       "    <tr>\n",
       "      <th>3721</th>\n",
       "      <td>https://www.eltiempo.es/san-martin-de-la-terci...</td>\n",
       "      <td>ESXX17380</td>\n",
       "      <td>San Martín de la Tercia</td>\n",
       "      <td>León</td>\n",
       "      <td>5</td>\n",
       "      <td>2022-06-26 18:35</td>\n",
       "    </tr>\n",
       "    <tr>\n",
       "      <th>3839</th>\n",
       "      <td>https://www.eltiempo.es/pontedo.html</td>\n",
       "      <td>ESXX17855</td>\n",
       "      <td>Pontedo</td>\n",
       "      <td>León</td>\n",
       "      <td>5</td>\n",
       "      <td>2022-06-26 18:35</td>\n",
       "    </tr>\n",
       "    <tr>\n",
       "      <th>3870</th>\n",
       "      <td>https://www.eltiempo.es/cabornera.html</td>\n",
       "      <td>ESXX19743</td>\n",
       "      <td>Cabornera</td>\n",
       "      <td>León</td>\n",
       "      <td>5</td>\n",
       "      <td>2022-06-26 18:35</td>\n",
       "    </tr>\n",
       "    <tr>\n",
       "      <th>4380</th>\n",
       "      <td>https://www.eltiempo.es/casares-de-arbas.html</td>\n",
       "      <td>ESXX19607</td>\n",
       "      <td>Casares de Arbas</td>\n",
       "      <td>León</td>\n",
       "      <td>5</td>\n",
       "      <td>2022-06-26 18:25</td>\n",
       "    </tr>\n",
       "    <tr>\n",
       "      <th>8198</th>\n",
       "      <td>https://www.eltiempo.es/la-vega-de-robledo.html</td>\n",
       "      <td>ESXX18578</td>\n",
       "      <td>La Vega de Robledo</td>\n",
       "      <td>León</td>\n",
       "      <td>5</td>\n",
       "      <td>2022-06-26 18:35</td>\n",
       "    </tr>\n",
       "    <tr>\n",
       "      <th>8235</th>\n",
       "      <td>https://www.eltiempo.es/camplongo.html</td>\n",
       "      <td>ESXX19692</td>\n",
       "      <td>Camplongo</td>\n",
       "      <td>León</td>\n",
       "      <td>5</td>\n",
       "      <td>2022-06-26 18:35</td>\n",
       "    </tr>\n",
       "    <tr>\n",
       "      <th>8886</th>\n",
       "      <td>https://www.eltiempo.es/piorneda.html</td>\n",
       "      <td>ESXX17881</td>\n",
       "      <td>Piorneda</td>\n",
       "      <td>León</td>\n",
       "      <td>5</td>\n",
       "      <td>2022-06-26 18:35</td>\n",
       "    </tr>\n",
       "    <tr>\n",
       "      <th>9056</th>\n",
       "      <td>https://www.eltiempo.es/villamanin.html</td>\n",
       "      <td>ESXX0533</td>\n",
       "      <td>Villamanín</td>\n",
       "      <td>León</td>\n",
       "      <td>5</td>\n",
       "      <td>2022-06-26 18:35</td>\n",
       "    </tr>\n",
       "    <tr>\n",
       "      <th>10023</th>\n",
       "      <td>https://www.eltiempo.es/en-provincia-leon/pino...</td>\n",
       "      <td>ESXX17884</td>\n",
       "      <td>Pinos</td>\n",
       "      <td>León</td>\n",
       "      <td>5</td>\n",
       "      <td>2022-06-26 18:35</td>\n",
       "    </tr>\n",
       "    <tr>\n",
       "      <th>10143</th>\n",
       "      <td>https://www.eltiempo.es/portilla-de-luna.html</td>\n",
       "      <td>ESXX17842</td>\n",
       "      <td>Portilla de Luna</td>\n",
       "      <td>León</td>\n",
       "      <td>5</td>\n",
       "      <td>2022-06-26 18:35</td>\n",
       "    </tr>\n",
       "    <tr>\n",
       "      <th>10452</th>\n",
       "      <td>https://www.eltiempo.es/millaro.html</td>\n",
       "      <td>ESXX18312</td>\n",
       "      <td>Millaró</td>\n",
       "      <td>León</td>\n",
       "      <td>5</td>\n",
       "      <td>2022-06-26 18:35</td>\n",
       "    </tr>\n",
       "    <tr>\n",
       "      <th>10762</th>\n",
       "      <td>https://www.eltiempo.es/villanueva-de-la-terci...</td>\n",
       "      <td>ESXX16550</td>\n",
       "      <td>Villanueva de la Tercia</td>\n",
       "      <td>León</td>\n",
       "      <td>5</td>\n",
       "      <td>2022-06-26 18:35</td>\n",
       "    </tr>\n",
       "    <tr>\n",
       "      <th>10860</th>\n",
       "      <td>https://www.eltiempo.es/tuiza-de-arriba.html</td>\n",
       "      <td>ESO0529</td>\n",
       "      <td>Tuiza de Arriba</td>\n",
       "      <td>Asturias</td>\n",
       "      <td>5</td>\n",
       "      <td>2022-06-26 18:35</td>\n",
       "    </tr>\n",
       "    <tr>\n",
       "      <th>12472</th>\n",
       "      <td>https://www.eltiempo.es/campo-de-luna.html</td>\n",
       "      <td>ESXX19686</td>\n",
       "      <td>Campo de Luna</td>\n",
       "      <td>León</td>\n",
       "      <td>5</td>\n",
       "      <td>2022-06-26 18:35</td>\n",
       "    </tr>\n",
       "    <tr>\n",
       "      <th>12957</th>\n",
       "      <td>https://www.eltiempo.es/busdongo.html</td>\n",
       "      <td>ESXX19780</td>\n",
       "      <td>Busdongo</td>\n",
       "      <td>León</td>\n",
       "      <td>5</td>\n",
       "      <td>2022-06-26 18:35</td>\n",
       "    </tr>\n",
       "    <tr>\n",
       "      <th>13736</th>\n",
       "      <td>https://www.eltiempo.es/navidiello.html</td>\n",
       "      <td>ESO1069</td>\n",
       "      <td>Navidiello</td>\n",
       "      <td>Asturias</td>\n",
       "      <td>5</td>\n",
       "      <td>2022-06-26 18:35</td>\n",
       "    </tr>\n",
       "    <tr>\n",
       "      <th>13826</th>\n",
       "      <td>https://www.eltiempo.es/velilla-de-la-tercia.html</td>\n",
       "      <td>ESXX16719</td>\n",
       "      <td>Velilla de la Tercia</td>\n",
       "      <td>León</td>\n",
       "      <td>5</td>\n",
       "      <td>2022-06-26 18:35</td>\n",
       "    </tr>\n",
       "    <tr>\n",
       "      <th>14084</th>\n",
       "      <td>https://www.eltiempo.es/llananzanes.html</td>\n",
       "      <td>ESO0113</td>\n",
       "      <td>Llananzanes</td>\n",
       "      <td>Asturias</td>\n",
       "      <td>5</td>\n",
       "      <td>2022-06-26 18:35</td>\n",
       "    </tr>\n",
       "    <tr>\n",
       "      <th>14993</th>\n",
       "      <td>https://www.eltiempo.es/piedrafita.html</td>\n",
       "      <td>ESXX17903</td>\n",
       "      <td>Piedrafita</td>\n",
       "      <td>León</td>\n",
       "      <td>5</td>\n",
       "      <td>2022-06-26 18:35</td>\n",
       "    </tr>\n",
       "    <tr>\n",
       "      <th>17179</th>\n",
       "      <td>https://www.eltiempo.es/paradilla-de-gordon.html</td>\n",
       "      <td>ESXX18003</td>\n",
       "      <td>Paradilla de Gordón</td>\n",
       "      <td>León</td>\n",
       "      <td>5</td>\n",
       "      <td>2022-06-26 18:35</td>\n",
       "    </tr>\n",
       "    <tr>\n",
       "      <th>18074</th>\n",
       "      <td>https://www.eltiempo.es/rodiezmo.html</td>\n",
       "      <td>ESXX17546</td>\n",
       "      <td>Rodiezmo</td>\n",
       "      <td>León</td>\n",
       "      <td>5</td>\n",
       "      <td>2022-06-26 18:35</td>\n",
       "    </tr>\n",
       "    <tr>\n",
       "      <th>18200</th>\n",
       "      <td>https://www.eltiempo.es/geras.html</td>\n",
       "      <td>ESXX19032</td>\n",
       "      <td>Geras</td>\n",
       "      <td>León</td>\n",
       "      <td>5</td>\n",
       "      <td>2022-06-26 18:35</td>\n",
       "    </tr>\n",
       "    <tr>\n",
       "      <th>18773</th>\n",
       "      <td>https://www.eltiempo.es/santa-eulalia-de-las-m...</td>\n",
       "      <td>ESXX17291</td>\n",
       "      <td>Santa Eulalia de las Manzanas</td>\n",
       "      <td>León</td>\n",
       "      <td>5</td>\n",
       "      <td>2022-06-26 18:35</td>\n",
       "    </tr>\n",
       "    <tr>\n",
       "      <th>18862</th>\n",
       "      <td>https://www.eltiempo.es/pobladura.html</td>\n",
       "      <td>ESXX17872</td>\n",
       "      <td>Pobladura</td>\n",
       "      <td>León</td>\n",
       "      <td>5</td>\n",
       "      <td>2022-06-26 18:35</td>\n",
       "    </tr>\n",
       "    <tr>\n",
       "      <th>18890</th>\n",
       "      <td>https://www.eltiempo.es/poladura-de-la-tercia....</td>\n",
       "      <td>ESXX17862</td>\n",
       "      <td>Poladura de la Tercia</td>\n",
       "      <td>León</td>\n",
       "      <td>5</td>\n",
       "      <td>2022-06-26 18:35</td>\n",
       "    </tr>\n",
       "    <tr>\n",
       "      <th>19048</th>\n",
       "      <td>https://www.eltiempo.es/golpejar-de-la-tercia....</td>\n",
       "      <td>ESXX19021</td>\n",
       "      <td>Golpejar de la Tercia</td>\n",
       "      <td>León</td>\n",
       "      <td>5</td>\n",
       "      <td>2022-06-26 18:35</td>\n",
       "    </tr>\n",
       "    <tr>\n",
       "      <th>19078</th>\n",
       "      <td>https://www.eltiempo.es/caldas-de-luna.html</td>\n",
       "      <td>ESXX19723</td>\n",
       "      <td>Caldas de Luna</td>\n",
       "      <td>León</td>\n",
       "      <td>5</td>\n",
       "      <td>2022-06-26 18:35</td>\n",
       "    </tr>\n",
       "    <tr>\n",
       "      <th>19137</th>\n",
       "      <td>https://www.eltiempo.es/robledo-de-caldas.html</td>\n",
       "      <td>ESXX17573</td>\n",
       "      <td>Robledo de Caldas</td>\n",
       "      <td>León</td>\n",
       "      <td>5</td>\n",
       "      <td>2022-06-26 18:35</td>\n",
       "    </tr>\n",
       "    <tr>\n",
       "      <th>19343</th>\n",
       "      <td>https://www.eltiempo.es/san-pedro-de-luna.html</td>\n",
       "      <td>ESXX17338</td>\n",
       "      <td>San Pedro de Luna</td>\n",
       "      <td>León</td>\n",
       "      <td>5</td>\n",
       "      <td>2022-06-26 18:35</td>\n",
       "    </tr>\n",
       "    <tr>\n",
       "      <th>19854</th>\n",
       "      <td>https://www.eltiempo.es/lancara-de-luna.html</td>\n",
       "      <td>ESXX18710</td>\n",
       "      <td>Láncara de Luna</td>\n",
       "      <td>León</td>\n",
       "      <td>5</td>\n",
       "      <td>2022-06-26 18:35</td>\n",
       "    </tr>\n",
       "    <tr>\n",
       "      <th>20981</th>\n",
       "      <td>https://www.eltiempo.es/viadangos-de-arbas.html</td>\n",
       "      <td>ESXX16696</td>\n",
       "      <td>Viadangos de Arbas</td>\n",
       "      <td>León</td>\n",
       "      <td>5</td>\n",
       "      <td>2022-06-26 18:35</td>\n",
       "    </tr>\n",
       "    <tr>\n",
       "      <th>21054</th>\n",
       "      <td>https://www.eltiempo.es/villanueva-del-pontedo...</td>\n",
       "      <td>ESXX16541</td>\n",
       "      <td>Villanueva del Pontedo</td>\n",
       "      <td>León</td>\n",
       "      <td>5</td>\n",
       "      <td>2022-06-26 18:35</td>\n",
       "    </tr>\n",
       "    <tr>\n",
       "      <th>22958</th>\n",
       "      <td>https://www.eltiempo.es/cubillas-de-arbas.html</td>\n",
       "      <td>ESXX19372</td>\n",
       "      <td>Cubillas de Arbas</td>\n",
       "      <td>León</td>\n",
       "      <td>5</td>\n",
       "      <td>2022-06-26 18:35</td>\n",
       "    </tr>\n",
       "    <tr>\n",
       "      <th>23399</th>\n",
       "      <td>https://www.eltiempo.es/pendilla.html</td>\n",
       "      <td>ESXX17931</td>\n",
       "      <td>Pendilla</td>\n",
       "      <td>León</td>\n",
       "      <td>5</td>\n",
       "      <td>2022-06-26 18:35</td>\n",
       "    </tr>\n",
       "    <tr>\n",
       "      <th>23513</th>\n",
       "      <td>https://www.eltiempo.es/vega-de-caballeros.html</td>\n",
       "      <td>ESXX16737</td>\n",
       "      <td>Vega de Caballeros</td>\n",
       "      <td>León</td>\n",
       "      <td>5</td>\n",
       "      <td>2022-06-26 18:35</td>\n",
       "    </tr>\n",
       "    <tr>\n",
       "      <th>23947</th>\n",
       "      <td>https://www.eltiempo.es/tonin.html</td>\n",
       "      <td>ESXX16984</td>\n",
       "      <td>Tonín</td>\n",
       "      <td>León</td>\n",
       "      <td>5</td>\n",
       "      <td>2022-06-26 18:35</td>\n",
       "    </tr>\n",
       "    <tr>\n",
       "      <th>24351</th>\n",
       "      <td>https://www.eltiempo.es/carmenes.html</td>\n",
       "      <td>ESXX1705</td>\n",
       "      <td>Cármenes</td>\n",
       "      <td>León</td>\n",
       "      <td>5</td>\n",
       "      <td>2022-06-26 18:25</td>\n",
       "    </tr>\n",
       "    <tr>\n",
       "      <th>24443</th>\n",
       "      <td>https://www.eltiempo.es/aralla.html</td>\n",
       "      <td>ESXX3858</td>\n",
       "      <td>Aralla</td>\n",
       "      <td>León</td>\n",
       "      <td>5</td>\n",
       "      <td>2022-06-26 18:35</td>\n",
       "    </tr>\n",
       "    <tr>\n",
       "      <th>24727</th>\n",
       "      <td>https://www.eltiempo.es/laguelles.html</td>\n",
       "      <td>ESXX18774</td>\n",
       "      <td>Lagüelles</td>\n",
       "      <td>León</td>\n",
       "      <td>5</td>\n",
       "      <td>2022-06-26 18:35</td>\n",
       "    </tr>\n",
       "  </tbody>\n",
       "</table>\n",
       "</div>"
      ],
      "text/plain": [
       "                                                     url pelmorex_id  \\\n",
       "573                 https://www.eltiempo.es/oblanca.html   ESXX18135   \n",
       "951         https://www.eltiempo.es/saguera-de-luna.html   ESXX17503   \n",
       "1909                https://www.eltiempo.es/folledo.html   ESXX19146   \n",
       "3721   https://www.eltiempo.es/san-martin-de-la-terci...   ESXX17380   \n",
       "3839                https://www.eltiempo.es/pontedo.html   ESXX17855   \n",
       "3870              https://www.eltiempo.es/cabornera.html   ESXX19743   \n",
       "4380       https://www.eltiempo.es/casares-de-arbas.html   ESXX19607   \n",
       "8198     https://www.eltiempo.es/la-vega-de-robledo.html   ESXX18578   \n",
       "8235              https://www.eltiempo.es/camplongo.html   ESXX19692   \n",
       "8886               https://www.eltiempo.es/piorneda.html   ESXX17881   \n",
       "9056             https://www.eltiempo.es/villamanin.html    ESXX0533   \n",
       "10023  https://www.eltiempo.es/en-provincia-leon/pino...   ESXX17884   \n",
       "10143      https://www.eltiempo.es/portilla-de-luna.html   ESXX17842   \n",
       "10452               https://www.eltiempo.es/millaro.html   ESXX18312   \n",
       "10762  https://www.eltiempo.es/villanueva-de-la-terci...   ESXX16550   \n",
       "10860       https://www.eltiempo.es/tuiza-de-arriba.html     ESO0529   \n",
       "12472         https://www.eltiempo.es/campo-de-luna.html   ESXX19686   \n",
       "12957              https://www.eltiempo.es/busdongo.html   ESXX19780   \n",
       "13736            https://www.eltiempo.es/navidiello.html     ESO1069   \n",
       "13826  https://www.eltiempo.es/velilla-de-la-tercia.html   ESXX16719   \n",
       "14084           https://www.eltiempo.es/llananzanes.html     ESO0113   \n",
       "14993            https://www.eltiempo.es/piedrafita.html   ESXX17903   \n",
       "17179   https://www.eltiempo.es/paradilla-de-gordon.html   ESXX18003   \n",
       "18074              https://www.eltiempo.es/rodiezmo.html   ESXX17546   \n",
       "18200                 https://www.eltiempo.es/geras.html   ESXX19032   \n",
       "18773  https://www.eltiempo.es/santa-eulalia-de-las-m...   ESXX17291   \n",
       "18862             https://www.eltiempo.es/pobladura.html   ESXX17872   \n",
       "18890  https://www.eltiempo.es/poladura-de-la-tercia....   ESXX17862   \n",
       "19048  https://www.eltiempo.es/golpejar-de-la-tercia....   ESXX19021   \n",
       "19078        https://www.eltiempo.es/caldas-de-luna.html   ESXX19723   \n",
       "19137     https://www.eltiempo.es/robledo-de-caldas.html   ESXX17573   \n",
       "19343     https://www.eltiempo.es/san-pedro-de-luna.html   ESXX17338   \n",
       "19854       https://www.eltiempo.es/lancara-de-luna.html   ESXX18710   \n",
       "20981    https://www.eltiempo.es/viadangos-de-arbas.html   ESXX16696   \n",
       "21054  https://www.eltiempo.es/villanueva-del-pontedo...   ESXX16541   \n",
       "22958     https://www.eltiempo.es/cubillas-de-arbas.html   ESXX19372   \n",
       "23399              https://www.eltiempo.es/pendilla.html   ESXX17931   \n",
       "23513    https://www.eltiempo.es/vega-de-caballeros.html   ESXX16737   \n",
       "23947                 https://www.eltiempo.es/tonin.html   ESXX16984   \n",
       "24351              https://www.eltiempo.es/carmenes.html    ESXX1705   \n",
       "24443                https://www.eltiempo.es/aralla.html    ESXX3858   \n",
       "24727             https://www.eltiempo.es/laguelles.html   ESXX18774   \n",
       "\n",
       "                                name  province  temp         timestamp  \n",
       "573                          Oblanca      León     5  2022-06-26 18:35  \n",
       "951                  Sagüera de Luna      León     5  2022-06-26 18:35  \n",
       "1909                         Folledo      León     5  2022-06-26 18:35  \n",
       "3721         San Martín de la Tercia      León     5  2022-06-26 18:35  \n",
       "3839                         Pontedo      León     5  2022-06-26 18:35  \n",
       "3870                       Cabornera      León     5  2022-06-26 18:35  \n",
       "4380                Casares de Arbas      León     5  2022-06-26 18:25  \n",
       "8198              La Vega de Robledo      León     5  2022-06-26 18:35  \n",
       "8235                       Camplongo      León     5  2022-06-26 18:35  \n",
       "8886                        Piorneda      León     5  2022-06-26 18:35  \n",
       "9056                      Villamanín      León     5  2022-06-26 18:35  \n",
       "10023                          Pinos      León     5  2022-06-26 18:35  \n",
       "10143               Portilla de Luna      León     5  2022-06-26 18:35  \n",
       "10452                        Millaró      León     5  2022-06-26 18:35  \n",
       "10762        Villanueva de la Tercia      León     5  2022-06-26 18:35  \n",
       "10860                Tuiza de Arriba  Asturias     5  2022-06-26 18:35  \n",
       "12472                  Campo de Luna      León     5  2022-06-26 18:35  \n",
       "12957                       Busdongo      León     5  2022-06-26 18:35  \n",
       "13736                     Navidiello  Asturias     5  2022-06-26 18:35  \n",
       "13826           Velilla de la Tercia      León     5  2022-06-26 18:35  \n",
       "14084                    Llananzanes  Asturias     5  2022-06-26 18:35  \n",
       "14993                     Piedrafita      León     5  2022-06-26 18:35  \n",
       "17179            Paradilla de Gordón      León     5  2022-06-26 18:35  \n",
       "18074                       Rodiezmo      León     5  2022-06-26 18:35  \n",
       "18200                          Geras      León     5  2022-06-26 18:35  \n",
       "18773  Santa Eulalia de las Manzanas      León     5  2022-06-26 18:35  \n",
       "18862                      Pobladura      León     5  2022-06-26 18:35  \n",
       "18890          Poladura de la Tercia      León     5  2022-06-26 18:35  \n",
       "19048          Golpejar de la Tercia      León     5  2022-06-26 18:35  \n",
       "19078                 Caldas de Luna      León     5  2022-06-26 18:35  \n",
       "19137              Robledo de Caldas      León     5  2022-06-26 18:35  \n",
       "19343              San Pedro de Luna      León     5  2022-06-26 18:35  \n",
       "19854                Láncara de Luna      León     5  2022-06-26 18:35  \n",
       "20981             Viadangos de Arbas      León     5  2022-06-26 18:35  \n",
       "21054         Villanueva del Pontedo      León     5  2022-06-26 18:35  \n",
       "22958              Cubillas de Arbas      León     5  2022-06-26 18:35  \n",
       "23399                       Pendilla      León     5  2022-06-26 18:35  \n",
       "23513             Vega de Caballeros      León     5  2022-06-26 18:35  \n",
       "23947                          Tonín      León     5  2022-06-26 18:35  \n",
       "24351                       Cármenes      León     5  2022-06-26 18:25  \n",
       "24443                         Aralla      León     5  2022-06-26 18:35  \n",
       "24727                      Lagüelles      León     5  2022-06-26 18:35  "
      ]
     },
     "execution_count": 666,
     "metadata": {},
     "output_type": "execute_result"
    }
   ],
   "source": [
    "# Now let's see which towns share this temperature\n",
    "\n",
    "output[output['temp'] == 5]"
   ]
  },
  {
   "cell_type": "code",
   "execution_count": 667,
   "id": "0e0b8acd",
   "metadata": {},
   "outputs": [
    {
     "data": {
      "text/html": [
       "<div>\n",
       "<style scoped>\n",
       "    .dataframe tbody tr th:only-of-type {\n",
       "        vertical-align: middle;\n",
       "    }\n",
       "\n",
       "    .dataframe tbody tr th {\n",
       "        vertical-align: top;\n",
       "    }\n",
       "\n",
       "    .dataframe thead th {\n",
       "        text-align: right;\n",
       "    }\n",
       "</style>\n",
       "<table border=\"1\" class=\"dataframe\">\n",
       "  <thead>\n",
       "    <tr style=\"text-align: right;\">\n",
       "      <th></th>\n",
       "      <th>url</th>\n",
       "      <th>pelmorex_id</th>\n",
       "      <th>name</th>\n",
       "      <th>province</th>\n",
       "      <th>temp</th>\n",
       "      <th>timestamp</th>\n",
       "    </tr>\n",
       "  </thead>\n",
       "  <tbody>\n",
       "    <tr>\n",
       "      <th>1052</th>\n",
       "      <td>https://www.eltiempo.es/en-provincia-almeria/s...</td>\n",
       "      <td>ESXX8598</td>\n",
       "      <td>Santa Cruz</td>\n",
       "      <td>Almería</td>\n",
       "      <td>35</td>\n",
       "      <td>2022-06-26 18:35</td>\n",
       "    </tr>\n",
       "    <tr>\n",
       "      <th>1927</th>\n",
       "      <td>https://www.eltiempo.es/santa-cruz-de-marchena...</td>\n",
       "      <td>ESXX7533</td>\n",
       "      <td>Santa Cruz de Marchena</td>\n",
       "      <td>Almería</td>\n",
       "      <td>35</td>\n",
       "      <td>2022-06-26 18:35</td>\n",
       "    </tr>\n",
       "    <tr>\n",
       "      <th>5882</th>\n",
       "      <td>https://www.eltiempo.es/alsodux.html</td>\n",
       "      <td>ESXX5111</td>\n",
       "      <td>Alsodux</td>\n",
       "      <td>Almería</td>\n",
       "      <td>35</td>\n",
       "      <td>2022-06-26 18:35</td>\n",
       "    </tr>\n",
       "    <tr>\n",
       "      <th>6578</th>\n",
       "      <td>https://www.eltiempo.es/bentarique.html</td>\n",
       "      <td>ESXX7532</td>\n",
       "      <td>Bentarique</td>\n",
       "      <td>Almería</td>\n",
       "      <td>35</td>\n",
       "      <td>2022-06-26 18:35</td>\n",
       "    </tr>\n",
       "    <tr>\n",
       "      <th>7355</th>\n",
       "      <td>https://www.eltiempo.es/alhabia.html</td>\n",
       "      <td>ESXX21068</td>\n",
       "      <td>Alhabia</td>\n",
       "      <td>Almería</td>\n",
       "      <td>35</td>\n",
       "      <td>2022-06-26 18:35</td>\n",
       "    </tr>\n",
       "    <tr>\n",
       "      <th>11257</th>\n",
       "      <td>https://www.eltiempo.es/huecija.html</td>\n",
       "      <td>ESXX2208</td>\n",
       "      <td>Huécija</td>\n",
       "      <td>Almería</td>\n",
       "      <td>35</td>\n",
       "      <td>2022-06-26 18:35</td>\n",
       "    </tr>\n",
       "    <tr>\n",
       "      <th>14831</th>\n",
       "      <td>https://www.eltiempo.es/alicun.html</td>\n",
       "      <td>ESXX21067</td>\n",
       "      <td>Alicún</td>\n",
       "      <td>Almería</td>\n",
       "      <td>35</td>\n",
       "      <td>2022-06-26 18:35</td>\n",
       "    </tr>\n",
       "    <tr>\n",
       "      <th>15335</th>\n",
       "      <td>https://www.eltiempo.es/alboloduy.html</td>\n",
       "      <td>ESXX0993</td>\n",
       "      <td>Alboloduy</td>\n",
       "      <td>Almería</td>\n",
       "      <td>35</td>\n",
       "      <td>2022-06-26 18:35</td>\n",
       "    </tr>\n",
       "    <tr>\n",
       "      <th>16052</th>\n",
       "      <td>https://www.eltiempo.es/terque.html</td>\n",
       "      <td>ESXX7502</td>\n",
       "      <td>Terque</td>\n",
       "      <td>Almería</td>\n",
       "      <td>35</td>\n",
       "      <td>2022-06-26 18:35</td>\n",
       "    </tr>\n",
       "  </tbody>\n",
       "</table>\n",
       "</div>"
      ],
      "text/plain": [
       "                                                     url pelmorex_id  \\\n",
       "1052   https://www.eltiempo.es/en-provincia-almeria/s...    ESXX8598   \n",
       "1927   https://www.eltiempo.es/santa-cruz-de-marchena...    ESXX7533   \n",
       "5882                https://www.eltiempo.es/alsodux.html    ESXX5111   \n",
       "6578             https://www.eltiempo.es/bentarique.html    ESXX7532   \n",
       "7355                https://www.eltiempo.es/alhabia.html   ESXX21068   \n",
       "11257               https://www.eltiempo.es/huecija.html    ESXX2208   \n",
       "14831                https://www.eltiempo.es/alicun.html   ESXX21067   \n",
       "15335             https://www.eltiempo.es/alboloduy.html    ESXX0993   \n",
       "16052                https://www.eltiempo.es/terque.html    ESXX7502   \n",
       "\n",
       "                         name province  temp         timestamp  \n",
       "1052               Santa Cruz  Almería    35  2022-06-26 18:35  \n",
       "1927   Santa Cruz de Marchena  Almería    35  2022-06-26 18:35  \n",
       "5882                  Alsodux  Almería    35  2022-06-26 18:35  \n",
       "6578               Bentarique  Almería    35  2022-06-26 18:35  \n",
       "7355                  Alhabia  Almería    35  2022-06-26 18:35  \n",
       "11257                 Huécija  Almería    35  2022-06-26 18:35  \n",
       "14831                  Alicún  Almería    35  2022-06-26 18:35  \n",
       "15335               Alboloduy  Almería    35  2022-06-26 18:35  \n",
       "16052                  Terque  Almería    35  2022-06-26 18:35  "
      ]
     },
     "execution_count": 667,
     "metadata": {},
     "output_type": "execute_result"
    }
   ],
   "source": [
    "# Now let's find the hottest towns\n",
    "\n",
    "output[output['temp'] == output['temp'].max()] # Combining the previous 2 steps into a single dataframe query"
   ]
  },
  {
   "cell_type": "code",
   "execution_count": null,
   "id": "47a42af3",
   "metadata": {},
   "outputs": [],
   "source": []
  }
 ],
 "metadata": {
  "kernelspec": {
   "display_name": "Python 3 (ipykernel)",
   "language": "python",
   "name": "python3"
  },
  "language_info": {
   "codemirror_mode": {
    "name": "ipython",
    "version": 3
   },
   "file_extension": ".py",
   "mimetype": "text/x-python",
   "name": "python",
   "nbconvert_exporter": "python",
   "pygments_lexer": "ipython3",
   "version": "3.9.12"
  }
 },
 "nbformat": 4,
 "nbformat_minor": 5
}
